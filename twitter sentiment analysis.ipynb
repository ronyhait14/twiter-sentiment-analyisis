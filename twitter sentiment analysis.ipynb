{
 "cells": [
  {
   "cell_type": "code",
   "execution_count": 1,
   "id": "79b2fa33",
   "metadata": {},
   "outputs": [],
   "source": [
    "import pandas as pd\n",
    "import numpy as np\n",
    "import matplotlib.pyplot as plt\n",
    "import seaborn as sns\n",
    "from sklearn.model_selection import train_test_split, GridSearchCV, cross_val_score\n",
    "from sklearn.feature_extraction.text import TfidfVectorizer\n",
    "from sklearn.naive_bayes import MultinomialNB\n",
    "from sklearn.pipeline import Pipeline\n",
    "from sklearn.metrics import classification_report, accuracy_score\n",
    "import nltk\n",
    "from nltk.corpus import stopwords\n",
    "from nltk.tokenize import word_tokenize\n",
    "\n"
   ]
  },
  {
   "cell_type": "code",
   "execution_count": 2,
   "id": "a92dc0c6",
   "metadata": {},
   "outputs": [
    {
     "name": "stderr",
     "output_type": "stream",
     "text": [
      "[nltk_data] Downloading package punkt to /Users/rony/nltk_data...\n",
      "[nltk_data]   Package punkt is already up-to-date!\n",
      "[nltk_data] Downloading package stopwords to /Users/rony/nltk_data...\n",
      "[nltk_data]   Package stopwords is already up-to-date!\n"
     ]
    },
    {
     "data": {
      "text/plain": [
       "True"
      ]
     },
     "execution_count": 2,
     "metadata": {},
     "output_type": "execute_result"
    }
   ],
   "source": [
    "# Download NLTK data (if not already downloaded)\n",
    "nltk.download('punkt')\n",
    "nltk.download('stopwords')\n",
    "\n"
   ]
  },
  {
   "cell_type": "code",
   "execution_count": 3,
   "id": "c4ffa2c4",
   "metadata": {},
   "outputs": [],
   "source": [
    "# Load the dataset\n",
    "data = pd.read_csv('/Users/rony/Desktop/twitter sentiment analysis/twitter_training.csv')\n"
   ]
  },
  {
   "cell_type": "code",
   "execution_count": 4,
   "id": "c5712f0d",
   "metadata": {},
   "outputs": [],
   "source": [
    "# Ensure the text column has no missing values and is of type string\n",
    "data['Tweet content'] = data['Tweet content'].fillna('').astype(str)"
   ]
  },
  {
   "cell_type": "code",
   "execution_count": 5,
   "id": "97dadbc5",
   "metadata": {},
   "outputs": [],
   "source": [
    "# Define text preprocessing function\n",
    "def preprocess_text(text):\n",
    "    if not isinstance(text, str):\n",
    "        text = str(text)\n",
    "    tokens = word_tokenize(text.lower())\n",
    "    tokens = [word for word in tokens if word.isalpha()]\n",
    "    tokens = [word for word in tokens if word not in stopwords.words('english')]\n",
    "    return ' '.join(tokens)\n",
    "\n",
    "# Apply preprocessing\n",
    "data['clean_text'] = data['Tweet content'].apply(preprocess_text)\n",
    "\n",
    "# Prepare data for model\n",
    "X = data['clean_text']\n",
    "y = data['sentiment']  \n",
    "\n",
    "# Split the dataset\n",
    "X_train, X_test, y_train, y_test = train_test_split(X, y, test_size=0.2, random_state=42)\n"
   ]
  },
  {
   "cell_type": "code",
   "execution_count": 6,
   "id": "598c63dd",
   "metadata": {},
   "outputs": [
    {
     "name": "stdout",
     "output_type": "stream",
     "text": [
      "Best parameters found:  {'vect__max_df': 0.9, 'vect__min_df': 1, 'vect__ngram_range': (1, 2)}\n",
      "Accuracy: 0.8303541541139452\n",
      "              precision    recall  f1-score   support\n",
      "\n",
      "  Irrelevant       0.99      0.58      0.73      2592\n",
      "    Negative       0.75      0.96      0.84      4519\n",
      "     Neutral       0.90      0.78      0.84      3596\n",
      "    Positive       0.83      0.89      0.86      4230\n",
      "\n",
      "    accuracy                           0.83     14937\n",
      "   macro avg       0.87      0.80      0.82     14937\n",
      "weighted avg       0.85      0.83      0.83     14937\n",
      "\n"
     ]
    }
   ],
   "source": [
    "# Build and train the model with TF-IDF vectorization and Naive Bayes\n",
    "pipeline = Pipeline([\n",
    "    ('vect', TfidfVectorizer()),  # TF-IDF vectorization\n",
    "    ('clf', MultinomialNB())      # Naive Bayes classifier\n",
    "])\n",
    "\n",
    "# Define hyperparameters for GridSearch\n",
    "parameters = {\n",
    "    'vect__ngram_range': [(1, 1), (1, 2)],  # Unigrams or bigrams\n",
    "    'vect__max_df': [0.9, 1.0],  # Maximum document frequency\n",
    "    'vect__min_df': [1, 5]  # Minimum document frequency\n",
    "}\n",
    "\n",
    "# Perform GridSearch for hyperparameter tuning\n",
    "grid_search = GridSearchCV(pipeline, parameters, cv=5, n_jobs=-1)\n",
    "grid_search.fit(X_train, y_train)\n",
    "\n",
    "print(\"Best parameters found: \", grid_search.best_params_)\n",
    "\n",
    "# Use the best model from GridSearch\n",
    "best_model = grid_search.best_estimator_\n",
    "\n",
    "# Make predictions and evaluate the model\n",
    "y_pred = best_model.predict(X_test)\n",
    "print(\"Accuracy:\", accuracy_score(y_test, y_pred))\n",
    "print(classification_report(y_test, y_pred))\n",
    "\n"
   ]
  },
  {
   "cell_type": "code",
   "execution_count": 7,
   "id": "c02552b8",
   "metadata": {},
   "outputs": [
    {
     "name": "stdout",
     "output_type": "stream",
     "text": [
      "Cross-validation scores:  [0.50880364 0.4478811  0.375      0.40285217 0.49022496]\n",
      "Mean cross-validation score:  0.44495237433392365\n"
     ]
    },
    {
     "data": {
      "image/png": "[encoded data removed]",
      "text/plain": [
       "<Figure size 640x480 with 1 Axes>"
      ]
     },
     "metadata": {},
     "output_type": "display_data"
    }
   ],
   "source": [
    "# Cross-validation scores\n",
    "cross_val_scores = cross_val_score(best_model, X, y, cv=5)\n",
    "print(\"Cross-validation scores: \", cross_val_scores)\n",
    "print(\"Mean cross-validation score: \", cross_val_scores.mean())\n",
    "\n",
    "# Visualize sentiment distribution\n",
    "sns.countplot(data=data, x='sentiment')  \n",
    "plt.title('Sentiment Distribution')\n",
    "plt.show()\n",
    "\n",
    "\n"
   ]
  },
  {
   "cell_type": "code",
   "execution_count": null,
   "id": "6f617ef6",
   "metadata": {},
   "outputs": [],
   "source": [
    "# Function to predict sentiment of user input\n",
    "def predict_sentiment(text):\n",
    "    cleaned_text = preprocess_text(text)\n",
    "    prediction = best_model.predict([cleaned_text])\n",
    "    return prediction[0]\n",
    "\n",
    "# Take user input and predict sentiment\n",
    "while True:\n",
    "    user_input = input(\"Enter a tweet to analyze sentiment (or type 'exit' to quit): \")\n",
    "    if user_input.lower() == 'exit':\n",
    "        break\n",
    "    sentiment = predict_sentiment(user_input)\n",
    "    print(f\"Predicted Sentiment: {sentiment}\")"
   ]
  },
  {
   "cell_type": "code",
   "execution_count": null,
   "id": "4d8ae360",
   "metadata": {},
   "outputs": [],
   "source": []
  }
 ],
 "metadata": {
  "kernelspec": {
   "display_name": "Python 3 (ipykernel)",
   "language": "python",
   "name": "python3"
  },
  "language_info": {
   "codemirror_mode": {
    "name": "ipython",
    "version": 3
   },
   "file_extension": ".py",
   "mimetype": "text/x-python",
   "name": "python",
   "nbconvert_exporter": "python",
   "pygments_lexer": "ipython3",
   "version": "3.11.4"
  }
 },
 "nbformat": 4,
 "nbformat_minor": 5
}
